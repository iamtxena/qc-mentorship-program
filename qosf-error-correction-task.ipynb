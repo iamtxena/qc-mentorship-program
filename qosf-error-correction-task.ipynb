{
 "metadata": {
  "language_info": {
   "codemirror_mode": {
    "name": "ipython",
    "version": 3
   },
   "file_extension": ".py",
   "mimetype": "text/x-python",
   "name": "python",
   "nbconvert_exporter": "python",
   "pygments_lexer": "ipython3",
   "version": "3.8.3-final"
  },
  "orig_nbformat": 2,
  "kernelspec": {
   "name": "python3",
   "display_name": "Python 3.8.3 64-bit ('my_env': conda)",
   "metadata": {
    "interpreter": {
     "hash": "ad389a6f8e4211f5c57d626e894baf0e2a6d8906f79df60957eabe0efad8582a"
    }
   }
  }
 },
 "nbformat": 4,
 "nbformat_minor": 2,
 "cells": [
  {
   "source": [
    "# QC Mentorship program Screening Task #2"
   ],
   "cell_type": "markdown",
   "metadata": {}
  },
  {
   "source": [
    "The bit-flip code and the sign-flip code (you can find a description of both [here](https://en.wikipedia.org/wiki/Quantum_error_correction)) are two very simple circuits able to detect and fix the bit-flip and the sign-flip errors, respectively.\n",
    "\n",
    ">_Note: I am going to use [Qiskit](https://qiskit.org/) as the Quantum Development Framework_\n",
    "\n",
    "## First Exercise\n",
    "Build the following simple circuit to prepare the Bell state: \n",
    "\n",
    "![Circuit](./task2-circuit.png \"Circuit\")\n",
    "\n",
    "**Code:**"
   ],
   "cell_type": "markdown",
   "metadata": {}
  },
  {
   "cell_type": "code",
   "execution_count": 1,
   "metadata": {},
   "outputs": [
    {
     "output_type": "execute_result",
     "data": {
      "text/plain": [
       "<Figure size 267.052x144.48 with 1 Axes>"
      ],
      "image/svg+xml": "<?xml version=\"1.0\" encoding=\"utf-8\" standalone=\"no\"?>\n<!DOCTYPE svg PUBLIC \"-//W3C//DTD SVG 1.1//EN\"\n  \"http://www.w3.org/Graphics/SVG/1.1/DTD/svg11.dtd\">\n<!-- Created with matplotlib (https://matplotlib.org/) -->\n<svg height=\"123.4824pt\" version=\"1.1\" viewBox=\"0 0 216.024272 123.4824\" width=\"216.024272pt\" xmlns=\"http://www.w3.org/2000/svg\" xmlns:xlink=\"http://www.w3.org/1999/xlink\">\n <metadata>\n  <rdf:RDF xmlns:cc=\"http://creativecommons.org/ns#\" xmlns:dc=\"http://purl.org/dc/elements/1.1/\" xmlns:rdf=\"http://www.w3.org/1999/02/22-rdf-syntax-ns#\">\n   <cc:Work>\n    <dc:type rdf:resource=\"http://purl.org/dc/dcmitype/StillImage\"/>\n    <dc:date>2021-01-27T07:49:19.435411</dc:date>\n    <dc:format>image/svg+xml</dc:format>\n    <dc:creator>\n     <cc:Agent>\n      <dc:title>Matplotlib v3.3.3, https://matplotlib.org/</dc:title>\n     </cc:Agent>\n    </dc:creator>\n   </cc:Work>\n  </rdf:RDF>\n </metadata>\n <defs>\n  <style type=\"text/css\">*{stroke-linecap:butt;stroke-linejoin:round;}</style>\n </defs>\n <g id=\"figure_1\">\n  <g id=\"patch_1\">\n   <path d=\"M 0 123.4824 \nL 216.024272 123.4824 \nL 216.024272 0 \nL 0 0 \nz\n\" style=\"fill:#ffffff;\"/>\n  </g>\n  <g id=\"axes_1\">\n   <g id=\"line2d_1\">\n    <path clip-path=\"url(#pdb59e2028d)\" d=\"M 63.381072 43.5608 \nL 204.279172 43.5608 \n\" style=\"fill:none;stroke:#000000;stroke-linecap:square;stroke-width:2;\"/>\n   </g>\n   <g id=\"line2d_2\">\n    <path clip-path=\"url(#pdb59e2028d)\" d=\"M 63.381072 89.0118 \nL 204.279172 89.0118 \n\" style=\"fill:none;stroke:#000000;stroke-linecap:square;stroke-width:2;\"/>\n   </g>\n   <g id=\"line2d_3\">\n    <path clip-path=\"url(#pdb59e2028d)\" d=\"M 178.826612 89.0118 \nL 178.826612 43.5608 \n\" style=\"fill:none;stroke:#6fa4ff;stroke-linecap:square;stroke-width:2;\"/>\n   </g>\n   <g id=\"patch_2\">\n    <path clip-path=\"url(#pdb59e2028d)\" d=\"M 73.153037 58.332375 \nL 102.696187 58.332375 \nL 102.696187 28.789225 \nL 73.153037 28.789225 \nz\n\" style=\"stroke:#000000;stroke-linejoin:miter;stroke-width:1.5;\"/>\n   </g>\n   <g id=\"patch_3\">\n    <path clip-path=\"url(#pdb59e2028d)\" d=\"M 73.153037 103.783375 \nL 102.696187 103.783375 \nL 102.696187 74.240225 \nL 73.153037 74.240225 \nz\n\" style=\"stroke:#000000;stroke-linejoin:miter;stroke-width:1.5;\"/>\n   </g>\n   <g id=\"patch_4\">\n    <path clip-path=\"url(#pdb59e2028d)\" d=\"M 118.604037 58.332375 \nL 148.147187 58.332375 \nL 148.147187 28.789225 \nL 118.604037 28.789225 \nz\n\" style=\"fill:#6fa4ff;stroke:#6fa4ff;stroke-linejoin:miter;stroke-width:1.5;\"/>\n   </g>\n   <g id=\"patch_5\">\n    <path clip-path=\"url(#pdb59e2028d)\" d=\"M 178.826612 47.992273 \nC 180.001852 47.992273 181.129116 47.525345 181.960136 46.694324 \nC 182.791157 45.863304 183.258085 44.73604 183.258085 43.5608 \nC 183.258085 42.38556 182.791157 41.258296 181.960136 40.427276 \nC 181.129116 39.596255 180.001852 39.129328 178.826612 39.129328 \nC 177.651372 39.129328 176.524108 39.596255 175.693088 40.427276 \nC 174.862067 41.258296 174.39514 42.38556 174.39514 43.5608 \nC 174.39514 44.73604 174.862067 45.863304 175.693088 46.694324 \nC 176.524108 47.525345 177.651372 47.992273 178.826612 47.992273 \nz\n\" style=\"fill:#6fa4ff;stroke:#6fa4ff;stroke-linejoin:miter;stroke-width:1.5;\"/>\n   </g>\n   <g id=\"patch_6\">\n    <path clip-path=\"url(#pdb59e2028d)\" d=\"M 178.826612 99.351903 \nC 181.568839 99.351903 184.199121 98.262404 186.138169 96.323357 \nC 188.077216 94.384309 189.166715 91.754027 189.166715 89.0118 \nC 189.166715 86.269573 188.077216 83.639291 186.138169 81.700243 \nC 184.199121 79.761196 181.568839 78.671698 178.826612 78.671698 \nC 176.084385 78.671698 173.454103 79.761196 171.515055 81.700243 \nC 169.576008 83.639291 168.48651 86.269573 168.48651 89.0118 \nC 168.48651 91.754027 169.576008 94.384309 171.515055 96.323357 \nC 173.454103 98.262404 176.084385 99.351903 178.826612 99.351903 \nz\n\" style=\"fill:#6fa4ff;stroke:#6fa4ff;stroke-linejoin:miter;stroke-width:2;\"/>\n   </g>\n   <g id=\"line2d_4\">\n    <path clip-path=\"url(#pdb59e2028d)\" d=\"M 178.826612 94.92043 \nL 178.826612 83.10317 \n\" style=\"fill:none;stroke:#ffffff;stroke-linecap:square;stroke-width:2;\"/>\n   </g>\n   <g id=\"line2d_5\">\n    <path clip-path=\"url(#pdb59e2028d)\" d=\"M 172.917982 89.0118 \nL 184.735242 89.0118 \n\" style=\"fill:none;stroke:#ffffff;stroke-linecap:square;stroke-width:2;\"/>\n   </g>\n   <g id=\"text_1\">\n    <g clip-path=\"url(#pdb59e2028d)\">\n     <!-- $\\left|0\\right\\rangle$ -->\n     <g style=\"fill:#ffffff;\" transform=\"translate(79.019612 47.0058)scale(0.13 -0.13)\">\n      <defs>\n       <path d=\"M 21 76.421875 \nL 21 -23.578125 \nL 12.703125 -23.578125 \nL 12.703125 76.421875 \nz\n\" id=\"DejaVuSans-124\"/>\n       <path d=\"M 31.78125 66.40625 \nQ 24.171875 66.40625 20.328125 58.90625 \nQ 16.5 51.421875 16.5 36.375 \nQ 16.5 21.390625 20.328125 13.890625 \nQ 24.171875 6.390625 31.78125 6.390625 \nQ 39.453125 6.390625 43.28125 13.890625 \nQ 47.125 21.390625 47.125 36.375 \nQ 47.125 51.421875 43.28125 58.90625 \nQ 39.453125 66.40625 31.78125 66.40625 \nz\nM 31.78125 74.21875 \nQ 44.046875 74.21875 50.515625 64.515625 \nQ 56.984375 54.828125 56.984375 36.375 \nQ 56.984375 17.96875 50.515625 8.265625 \nQ 44.046875 -1.421875 31.78125 -1.421875 \nQ 19.53125 -1.421875 13.0625 8.265625 \nQ 6.59375 17.96875 6.59375 36.375 \nQ 6.59375 54.828125 13.0625 64.515625 \nQ 19.53125 74.21875 31.78125 74.21875 \nz\n\" id=\"DejaVuSans-48\"/>\n       <path d=\"M 30.078125 31.34375 \nL 16.3125 -13.1875 \nL 8.015625 -13.1875 \nL 21.78125 31.34375 \nL 8.015625 75.875 \nL 16.3125 75.875 \nz\n\" id=\"DejaVuSans-10217\"/>\n      </defs>\n      <use transform=\"translate(0 0.578125)\" xlink:href=\"#DejaVuSans-124\"/>\n      <use transform=\"translate(33.691406 0.578125)\" xlink:href=\"#DejaVuSans-48\"/>\n      <use transform=\"translate(97.314453 0.578125)\" xlink:href=\"#DejaVuSans-10217\"/>\n     </g>\n    </g>\n   </g>\n   <g id=\"text_2\">\n    <g clip-path=\"url(#pdb59e2028d)\">\n     <!-- $\\left|0\\right\\rangle$ -->\n     <g style=\"fill:#ffffff;\" transform=\"translate(79.019612 92.4568)scale(0.13 -0.13)\">\n      <use transform=\"translate(0 0.578125)\" xlink:href=\"#DejaVuSans-124\"/>\n      <use transform=\"translate(33.691406 0.578125)\" xlink:href=\"#DejaVuSans-48\"/>\n      <use transform=\"translate(97.314453 0.578125)\" xlink:href=\"#DejaVuSans-10217\"/>\n     </g>\n    </g>\n   </g>\n   <g id=\"text_3\">\n    <g clip-path=\"url(#pdb59e2028d)\">\n     <!-- H -->\n     <g transform=\"translate(128.487409 47.147988)scale(0.13 -0.13)\">\n      <defs>\n       <path d=\"M 9.8125 72.90625 \nL 19.671875 72.90625 \nL 19.671875 43.015625 \nL 55.515625 43.015625 \nL 55.515625 72.90625 \nL 65.375 72.90625 \nL 65.375 0 \nL 55.515625 0 \nL 55.515625 34.71875 \nL 19.671875 34.71875 \nL 19.671875 0 \nL 9.8125 0 \nz\n\" id=\"DejaVuSans-72\"/>\n      </defs>\n      <use xlink:href=\"#DejaVuSans-72\"/>\n     </g>\n    </g>\n   </g>\n   <g id=\"text_4\">\n    <g clip-path=\"url(#pdb59e2028d)\">\n     <!-- ${q}_{0}$ -->\n     <g transform=\"translate(36.253372 48.011777)scale(0.1625 -0.1625)\">\n      <defs>\n       <path d=\"M 41.703125 8.203125 \nQ 38.09375 3.46875 33.171875 1.015625 \nQ 28.265625 -1.421875 22.3125 -1.421875 \nQ 14.015625 -1.421875 9.296875 4.171875 \nQ 4.59375 9.765625 4.59375 19.578125 \nQ 4.59375 27.484375 7.5 34.859375 \nQ 10.40625 42.234375 15.828125 48.09375 \nQ 19.34375 51.90625 23.90625 53.953125 \nQ 28.46875 56 33.5 56 \nQ 39.546875 56 43.453125 53.609375 \nQ 47.359375 51.21875 49.125 46.390625 \nL 50.6875 54.59375 \nL 59.71875 54.59375 \nL 45.125 -20.609375 \nL 36.078125 -20.609375 \nz\nM 13.921875 20.90625 \nQ 13.921875 13.671875 16.9375 9.890625 \nQ 19.96875 6.109375 25.6875 6.109375 \nQ 34.1875 6.109375 40.1875 14.234375 \nQ 46.1875 22.359375 46.1875 33.984375 \nQ 46.1875 41.015625 43.078125 44.75 \nQ 39.984375 48.484375 34.1875 48.484375 \nQ 29.9375 48.484375 26.3125 46.5 \nQ 22.703125 44.53125 20.015625 40.71875 \nQ 17.1875 36.71875 15.546875 31.34375 \nQ 13.921875 25.984375 13.921875 20.90625 \nz\n\" id=\"DejaVuSans-Oblique-113\"/>\n      </defs>\n      <use xlink:href=\"#DejaVuSans-Oblique-113\"/>\n      <use transform=\"translate(63.476562 -16.40625)scale(0.7)\" xlink:href=\"#DejaVuSans-48\"/>\n     </g>\n    </g>\n   </g>\n   <g id=\"text_5\">\n    <g clip-path=\"url(#pdb59e2028d)\">\n     <!-- ${q}_{1}$ -->\n     <g transform=\"translate(36.253372 93.462777)scale(0.1625 -0.1625)\">\n      <defs>\n       <path d=\"M 12.40625 8.296875 \nL 28.515625 8.296875 \nL 28.515625 63.921875 \nL 10.984375 60.40625 \nL 10.984375 69.390625 \nL 28.421875 72.90625 \nL 38.28125 72.90625 \nL 38.28125 8.296875 \nL 54.390625 8.296875 \nL 54.390625 0 \nL 12.40625 0 \nz\n\" id=\"DejaVuSans-49\"/>\n      </defs>\n      <use xlink:href=\"#DejaVuSans-Oblique-113\"/>\n      <use transform=\"translate(63.476562 -16.40625)scale(0.7)\" xlink:href=\"#DejaVuSans-49\"/>\n     </g>\n    </g>\n   </g>\n  </g>\n </g>\n <defs>\n  <clipPath id=\"pdb59e2028d\">\n   <rect height=\"109.0824\" width=\"201.624272\" x=\"7.2\" y=\"7.2\"/>\n  </clipPath>\n </defs>\n</svg>\n",
      "image/png": "[encoded data removed]"
     },
     "metadata": {},
     "execution_count": 1
    }
   ],
   "source": [
    "from qiskit import QuantumCircuit, QuantumRegister\n",
    "# Create 2 qbits circuit\n",
    "circuitExerxiseOne = QuantumCircuit(2)\n",
    "# By default circuit start with |0>, but we can also explicitely reset it with |0> state\n",
    "circuitExerxiseOne.reset(0)\n",
    "circuitExerxiseOne.reset(1)\n",
    "# Add a H gate on qubit 0\n",
    "circuitExerxiseOne.h(0)\n",
    "# Add a CX (CNOT) gate on control qubit 0 and target qubit 1\n",
    "circuitExerxiseOne.cx(0, 1)\n",
    "# Draw the circuit\n",
    "circuitExerxiseOne.draw('mpl')"
   ]
  },
  {
   "source": [
    "## Second Exercise\n",
    "\n",
    "Now add, right before the CNOT gate and for each of the two qubits, an arbitrary “error gate”. By error gate we mean that with a certain probability (that you can decide but must be non-zero for all the choices) you have a 1 qubit unitary which can be either the identity, or the X gate (bit-flip error) or the Z gate (sign-flip error)."
   ],
   "cell_type": "markdown",
   "metadata": {}
  },
  {
   "cell_type": "code",
   "execution_count": 2,
   "metadata": {},
   "outputs": [],
   "source": [
    "from qiskit import execute, Aer\n",
    "# Use Aer's qasm_simulator\n",
    "simulator = Aer.get_backend('qasm_simulator')"
   ]
  },
  {
   "cell_type": "code",
   "execution_count": 3,
   "metadata": {},
   "outputs": [],
   "source": [
    "def initTwoRandomBits() -> str: \n",
    "    \"\"\" Creates a random two-bit sequence by the resulting of a one-time execution of a \n",
    "        two qubit Quantum Circuit with a Hadamard Gate on each one and performing a Z-measurement.\n",
    "    \"\"\"\n",
    "    # Create 2 qbits circuit with 2 classical registers\n",
    "    internalCircuit = QuantumCircuit(2,2)\n",
    "    # Adding Hadamard gates on each qubit\n",
    "    internalCircuit.h(0)\n",
    "    internalCircuit.h(1)\n",
    "    # Map the quantum measurement to the classical bits\n",
    "    internalCircuit.measure([0,1], [0,1])\n",
    "    # Execute the circuit on the qasm simulator or just ONE execution\n",
    "    resultOneExecution = execute(internalCircuit, simulator, shots=1).result()\n",
    "    # Grab the result in dictionary format\n",
    "    counts = resultOneExecution.get_counts(internalCircuit)\n",
    "    # Return the two bit string\n",
    "    return list(counts.keys())[0]"
   ]
  },
  {
   "cell_type": "code",
   "execution_count": 4,
   "metadata": {},
   "outputs": [],
   "source": [
    "def addErrorGate(inputCircuit, qubitPosition):\n",
    "    \"\"\" \n",
    "        Given a circuit, adds the identity, X or Z gate with a random probability.\n",
    "        The probability is computed measuring from a new internal two-qubit circuit qubits, \n",
    "        to which it has applied a Hadamard gate to in a superposition state and then to \n",
    "        generate an actual random probability. \n",
    "        Each qubit is then measured with a Z-measurement and the applied final gate to \n",
    "        the input circuit is based on the following output decision table:\n",
    "\n",
    "        q0 q1 final gate\n",
    "        -- -- ----------\n",
    "         0  0  Identity\n",
    "         0  1  X (bit-flip error)\n",
    "         1  0  Z (sign-flip error)\n",
    "         1  1  Identity\n",
    "\n",
    "         The probability decision table gives a 50% of being the Identity, and a 25% the\n",
    "         X or the Z gate\n",
    "    \"\"\"\n",
    "    twoRandomBits = initTwoRandomBits()\n",
    "    if (twoRandomBits == \"00\" or twoRandomBits == \"11\"):\n",
    "        inputCircuit.id(qubitPosition)\n",
    "    if (twoRandomBits == \"01\"):\n",
    "        inputCircuit.x(qubitPosition)\n",
    "    if (twoRandomBits == \"10\"):\n",
    "        inputCircuit.z(qubitPosition)\n",
    "    "
   ]
  },
  {
   "cell_type": "code",
   "execution_count": 6,
   "metadata": {},
   "outputs": [
    {
     "output_type": "execute_result",
     "data": {
      "text/plain": [
       "<Figure size 327.252x144.48 with 1 Axes>"
      ],
      "image/svg+xml": "<?xml version=\"1.0\" encoding=\"utf-8\" standalone=\"no\"?>\n<!DOCTYPE svg PUBLIC \"-//W3C//DTD SVG 1.1//EN\"\n  \"http://www.w3.org/Graphics/SVG/1.1/DTD/svg11.dtd\">\n<!-- Created with matplotlib (https://matplotlib.org/) -->\n<svg height=\"123.4824pt\" version=\"1.1\" viewBox=\"0 0 261.475272 123.4824\" width=\"261.475272pt\" xmlns=\"http://www.w3.org/2000/svg\" xmlns:xlink=\"http://www.w3.org/1999/xlink\">\n <metadata>\n  <rdf:RDF xmlns:cc=\"http://creativecommons.org/ns#\" xmlns:dc=\"http://purl.org/dc/elements/1.1/\" xmlns:rdf=\"http://www.w3.org/1999/02/22-rdf-syntax-ns#\">\n   <cc:Work>\n    <dc:type rdf:resource=\"http://purl.org/dc/dcmitype/StillImage\"/>\n    <dc:date>2021-01-27T07:49:27.666235</dc:date>\n    <dc:format>image/svg+xml</dc:format>\n    <dc:creator>\n     <cc:Agent>\n      <dc:title>Matplotlib v3.3.3, https://matplotlib.org/</dc:title>\n     </cc:Agent>\n    </dc:creator>\n   </cc:Work>\n  </rdf:RDF>\n </metadata>\n <defs>\n  <style type=\"text/css\">*{stroke-linecap:butt;stroke-linejoin:round;}</style>\n </defs>\n <g id=\"figure_1\">\n  <g id=\"patch_1\">\n   <path d=\"M 0 123.4824 \nL 261.475272 123.4824 \nL 261.475272 0 \nL 0 0 \nz\n\" style=\"fill:#ffffff;\"/>\n  </g>\n  <g id=\"axes_1\">\n   <g id=\"line2d_1\">\n    <path clip-path=\"url(#pbf145c2aa2)\" d=\"M 63.381072 43.5608 \nL 249.730172 43.5608 \n\" style=\"fill:none;stroke:#000000;stroke-linecap:square;stroke-width:2;\"/>\n   </g>\n   <g id=\"line2d_2\">\n    <path clip-path=\"url(#pbf145c2aa2)\" d=\"M 63.381072 89.0118 \nL 249.730172 89.0118 \n\" style=\"fill:none;stroke:#000000;stroke-linecap:square;stroke-width:2;\"/>\n   </g>\n   <g id=\"line2d_3\">\n    <path clip-path=\"url(#pbf145c2aa2)\" d=\"M 224.277612 89.0118 \nL 224.277612 43.5608 \n\" style=\"fill:none;stroke:#6fa4ff;stroke-linecap:square;stroke-width:2;\"/>\n   </g>\n   <g id=\"patch_2\">\n    <path clip-path=\"url(#pbf145c2aa2)\" d=\"M 73.153037 58.332375 \nL 102.696187 58.332375 \nL 102.696187 28.789225 \nL 73.153037 28.789225 \nz\n\" style=\"stroke:#000000;stroke-linejoin:miter;stroke-width:1.5;\"/>\n   </g>\n   <g id=\"patch_3\">\n    <path clip-path=\"url(#pbf145c2aa2)\" d=\"M 73.153037 103.783375 \nL 102.696187 103.783375 \nL 102.696187 74.240225 \nL 73.153037 74.240225 \nz\n\" style=\"stroke:#000000;stroke-linejoin:miter;stroke-width:1.5;\"/>\n   </g>\n   <g id=\"patch_4\">\n    <path clip-path=\"url(#pbf145c2aa2)\" d=\"M 118.604037 58.332375 \nL 148.147187 58.332375 \nL 148.147187 28.789225 \nL 118.604037 28.789225 \nz\n\" style=\"fill:#6fa4ff;stroke:#6fa4ff;stroke-linejoin:miter;stroke-width:1.5;\"/>\n   </g>\n   <g id=\"patch_5\">\n    <path clip-path=\"url(#pbf145c2aa2)\" d=\"M 118.604037 103.783375 \nL 148.147187 103.783375 \nL 148.147187 74.240225 \nL 118.604037 74.240225 \nz\n\" style=\"fill:#05bab6;stroke:#05bab6;stroke-linejoin:miter;stroke-width:1.5;\"/>\n   </g>\n   <g id=\"patch_6\">\n    <path clip-path=\"url(#pbf145c2aa2)\" d=\"M 164.055037 58.332375 \nL 193.598187 58.332375 \nL 193.598187 28.789225 \nL 164.055037 28.789225 \nz\n\" style=\"fill:#05bab6;stroke:#05bab6;stroke-linejoin:miter;stroke-width:1.5;\"/>\n   </g>\n   <g id=\"patch_7\">\n    <path clip-path=\"url(#pbf145c2aa2)\" d=\"M 224.277612 47.992273 \nC 225.452852 47.992273 226.580116 47.525345 227.411136 46.694324 \nC 228.242157 45.863304 228.709085 44.73604 228.709085 43.5608 \nC 228.709085 42.38556 228.242157 41.258296 227.411136 40.427276 \nC 226.580116 39.596255 225.452852 39.129328 224.277612 39.129328 \nC 223.102372 39.129328 221.975108 39.596255 221.144088 40.427276 \nC 220.313067 41.258296 219.84614 42.38556 219.84614 43.5608 \nC 219.84614 44.73604 220.313067 45.863304 221.144088 46.694324 \nC 221.975108 47.525345 223.102372 47.992273 224.277612 47.992273 \nz\n\" style=\"fill:#6fa4ff;stroke:#6fa4ff;stroke-linejoin:miter;stroke-width:1.5;\"/>\n   </g>\n   <g id=\"patch_8\">\n    <path clip-path=\"url(#pbf145c2aa2)\" d=\"M 224.277612 99.351903 \nC 227.019839 99.351903 229.650121 98.262404 231.589169 96.323357 \nC 233.528216 94.384309 234.617715 91.754027 234.617715 89.0118 \nC 234.617715 86.269573 233.528216 83.639291 231.589169 81.700243 \nC 229.650121 79.761196 227.019839 78.671698 224.277612 78.671698 \nC 221.535385 78.671698 218.905103 79.761196 216.966055 81.700243 \nC 215.027008 83.639291 213.93751 86.269573 213.93751 89.0118 \nC 213.93751 91.754027 215.027008 94.384309 216.966055 96.323357 \nC 218.905103 98.262404 221.535385 99.351903 224.277612 99.351903 \nz\n\" style=\"fill:#6fa4ff;stroke:#6fa4ff;stroke-linejoin:miter;stroke-width:2;\"/>\n   </g>\n   <g id=\"line2d_4\">\n    <path clip-path=\"url(#pbf145c2aa2)\" d=\"M 224.277612 94.92043 \nL 224.277612 83.10317 \n\" style=\"fill:none;stroke:#ffffff;stroke-linecap:square;stroke-width:2;\"/>\n   </g>\n   <g id=\"line2d_5\">\n    <path clip-path=\"url(#pbf145c2aa2)\" d=\"M 218.368982 89.0118 \nL 230.186242 89.0118 \n\" style=\"fill:none;stroke:#ffffff;stroke-linecap:square;stroke-width:2;\"/>\n   </g>\n   <g id=\"text_1\">\n    <g clip-path=\"url(#pbf145c2aa2)\">\n     <!-- $\\left|0\\right\\rangle$ -->\n     <g style=\"fill:#ffffff;\" transform=\"translate(79.019612 47.0058)scale(0.13 -0.13)\">\n      <defs>\n       <path d=\"M 21 76.421875 \nL 21 -23.578125 \nL 12.703125 -23.578125 \nL 12.703125 76.421875 \nz\n\" id=\"DejaVuSans-124\"/>\n       <path d=\"M 31.78125 66.40625 \nQ 24.171875 66.40625 20.328125 58.90625 \nQ 16.5 51.421875 16.5 36.375 \nQ 16.5 21.390625 20.328125 13.890625 \nQ 24.171875 6.390625 31.78125 6.390625 \nQ 39.453125 6.390625 43.28125 13.890625 \nQ 47.125 21.390625 47.125 36.375 \nQ 47.125 51.421875 43.28125 58.90625 \nQ 39.453125 66.40625 31.78125 66.40625 \nz\nM 31.78125 74.21875 \nQ 44.046875 74.21875 50.515625 64.515625 \nQ 56.984375 54.828125 56.984375 36.375 \nQ 56.984375 17.96875 50.515625 8.265625 \nQ 44.046875 -1.421875 31.78125 -1.421875 \nQ 19.53125 -1.421875 13.0625 8.265625 \nQ 6.59375 17.96875 6.59375 36.375 \nQ 6.59375 54.828125 13.0625 64.515625 \nQ 19.53125 74.21875 31.78125 74.21875 \nz\n\" id=\"DejaVuSans-48\"/>\n       <path d=\"M 30.078125 31.34375 \nL 16.3125 -13.1875 \nL 8.015625 -13.1875 \nL 21.78125 31.34375 \nL 8.015625 75.875 \nL 16.3125 75.875 \nz\n\" id=\"DejaVuSans-10217\"/>\n      </defs>\n      <use transform=\"translate(0 0.578125)\" xlink:href=\"#DejaVuSans-124\"/>\n      <use transform=\"translate(33.691406 0.578125)\" xlink:href=\"#DejaVuSans-48\"/>\n      <use transform=\"translate(97.314453 0.578125)\" xlink:href=\"#DejaVuSans-10217\"/>\n     </g>\n    </g>\n   </g>\n   <g id=\"text_2\">\n    <g clip-path=\"url(#pbf145c2aa2)\">\n     <!-- $\\left|0\\right\\rangle$ -->\n     <g style=\"fill:#ffffff;\" transform=\"translate(79.019612 92.4568)scale(0.13 -0.13)\">\n      <use transform=\"translate(0 0.578125)\" xlink:href=\"#DejaVuSans-124\"/>\n      <use transform=\"translate(33.691406 0.578125)\" xlink:href=\"#DejaVuSans-48\"/>\n      <use transform=\"translate(97.314453 0.578125)\" xlink:href=\"#DejaVuSans-10217\"/>\n     </g>\n    </g>\n   </g>\n   <g id=\"text_3\">\n    <g clip-path=\"url(#pbf145c2aa2)\">\n     <!-- H -->\n     <g transform=\"translate(128.487409 47.147988)scale(0.13 -0.13)\">\n      <defs>\n       <path d=\"M 9.8125 72.90625 \nL 19.671875 72.90625 \nL 19.671875 43.015625 \nL 55.515625 43.015625 \nL 55.515625 72.90625 \nL 65.375 72.90625 \nL 65.375 0 \nL 55.515625 0 \nL 55.515625 34.71875 \nL 19.671875 34.71875 \nL 19.671875 0 \nL 9.8125 0 \nz\n\" id=\"DejaVuSans-72\"/>\n      </defs>\n      <use xlink:href=\"#DejaVuSans-72\"/>\n     </g>\n    </g>\n   </g>\n   <g id=\"text_4\">\n    <g clip-path=\"url(#pbf145c2aa2)\">\n     <!-- X -->\n     <g transform=\"translate(128.923112 92.598988)scale(0.13 -0.13)\">\n      <defs>\n       <path d=\"M 6.296875 72.90625 \nL 16.890625 72.90625 \nL 35.015625 45.796875 \nL 53.21875 72.90625 \nL 63.8125 72.90625 \nL 40.375 37.890625 \nL 65.375 0 \nL 54.78125 0 \nL 34.28125 31 \nL 13.625 0 \nL 2.984375 0 \nL 29 38.921875 \nz\n\" id=\"DejaVuSans-88\"/>\n      </defs>\n      <use xlink:href=\"#DejaVuSans-88\"/>\n     </g>\n    </g>\n   </g>\n   <g id=\"text_5\">\n    <g clip-path=\"url(#pbf145c2aa2)\">\n     <!-- Z -->\n     <g transform=\"translate(174.374112 47.147988)scale(0.13 -0.13)\">\n      <defs>\n       <path d=\"M 5.609375 72.90625 \nL 62.890625 72.90625 \nL 62.890625 65.375 \nL 16.796875 8.296875 \nL 64.015625 8.296875 \nL 64.015625 0 \nL 4.5 0 \nL 4.5 7.515625 \nL 50.59375 64.59375 \nL 5.609375 64.59375 \nz\n\" id=\"DejaVuSans-90\"/>\n      </defs>\n      <use xlink:href=\"#DejaVuSans-90\"/>\n     </g>\n    </g>\n   </g>\n   <g id=\"text_6\">\n    <g clip-path=\"url(#pbf145c2aa2)\">\n     <!-- ${q}_{0}$ -->\n     <g transform=\"translate(36.253372 48.011777)scale(0.1625 -0.1625)\">\n      <defs>\n       <path d=\"M 41.703125 8.203125 \nQ 38.09375 3.46875 33.171875 1.015625 \nQ 28.265625 -1.421875 22.3125 -1.421875 \nQ 14.015625 -1.421875 9.296875 4.171875 \nQ 4.59375 9.765625 4.59375 19.578125 \nQ 4.59375 27.484375 7.5 34.859375 \nQ 10.40625 42.234375 15.828125 48.09375 \nQ 19.34375 51.90625 23.90625 53.953125 \nQ 28.46875 56 33.5 56 \nQ 39.546875 56 43.453125 53.609375 \nQ 47.359375 51.21875 49.125 46.390625 \nL 50.6875 54.59375 \nL 59.71875 54.59375 \nL 45.125 -20.609375 \nL 36.078125 -20.609375 \nz\nM 13.921875 20.90625 \nQ 13.921875 13.671875 16.9375 9.890625 \nQ 19.96875 6.109375 25.6875 6.109375 \nQ 34.1875 6.109375 40.1875 14.234375 \nQ 46.1875 22.359375 46.1875 33.984375 \nQ 46.1875 41.015625 43.078125 44.75 \nQ 39.984375 48.484375 34.1875 48.484375 \nQ 29.9375 48.484375 26.3125 46.5 \nQ 22.703125 44.53125 20.015625 40.71875 \nQ 17.1875 36.71875 15.546875 31.34375 \nQ 13.921875 25.984375 13.921875 20.90625 \nz\n\" id=\"DejaVuSans-Oblique-113\"/>\n      </defs>\n      <use xlink:href=\"#DejaVuSans-Oblique-113\"/>\n      <use transform=\"translate(63.476562 -16.40625)scale(0.7)\" xlink:href=\"#DejaVuSans-48\"/>\n     </g>\n    </g>\n   </g>\n   <g id=\"text_7\">\n    <g clip-path=\"url(#pbf145c2aa2)\">\n     <!-- ${q}_{1}$ -->\n     <g transform=\"translate(36.253372 93.462777)scale(0.1625 -0.1625)\">\n      <defs>\n       <path d=\"M 12.40625 8.296875 \nL 28.515625 8.296875 \nL 28.515625 63.921875 \nL 10.984375 60.40625 \nL 10.984375 69.390625 \nL 28.421875 72.90625 \nL 38.28125 72.90625 \nL 38.28125 8.296875 \nL 54.390625 8.296875 \nL 54.390625 0 \nL 12.40625 0 \nz\n\" id=\"DejaVuSans-49\"/>\n      </defs>\n      <use xlink:href=\"#DejaVuSans-Oblique-113\"/>\n      <use transform=\"translate(63.476562 -16.40625)scale(0.7)\" xlink:href=\"#DejaVuSans-49\"/>\n     </g>\n    </g>\n   </g>\n  </g>\n </g>\n <defs>\n  <clipPath id=\"pbf145c2aa2\">\n   <rect height=\"109.0824\" width=\"247.075272\" x=\"7.2\" y=\"7.2\"/>\n  </clipPath>\n </defs>\n</svg>\n",
      "image/png": "[encoded data removed]"
     },
     "metadata": {},
     "execution_count": 6
    }
   ],
   "source": [
    "# Create 2 qbits circuit\n",
    "circuitExerxiseTwo = QuantumCircuit(2)\n",
    "# By default circuit start with |0>, but we can also explicitely reset it with |0> state\n",
    "circuitExerxiseTwo.reset(0)\n",
    "circuitExerxiseTwo.reset(1)\n",
    "# Add a H gate on qubit 0\n",
    "circuitExerxiseTwo.h(0)\n",
    "# Add an error gate on each qubit\n",
    "addErrorGate(circuitExerxiseTwo, 0)\n",
    "addErrorGate(circuitExerxiseTwo, 1)\n",
    "# Add a CX (CNOT) gate on control qubit 0 and target qubit 1\n",
    "circuitExerxiseTwo.cx(0, 1)\n",
    "# Draw the circuit\n",
    "circuitExerxiseTwo.draw('mpl')"
   ]
  },
  {
   "source": [
    "## Third Exercise\n",
    "\n",
    "Encode each of the two qubits with a sign-flip or a bit-flip code, in such a way that **all the possible** choices for the error gates described in 2), occurring on the logical qubits, can be detected and fixed. Motivate your choice. This is the most non-trivial part of the problem, so do it with a lot of care!"
   ],
   "cell_type": "markdown",
   "metadata": {}
  },
  {
   "cell_type": "code",
   "execution_count": null,
   "metadata": {},
   "outputs": [],
   "source": []
  },
  {
   "source": [
    "## Fourth Exercise\n",
    "\n",
    "Test your solution by making many measurements over the final state and testing that the results are in line with the expectations."
   ],
   "cell_type": "markdown",
   "metadata": {}
  },
  {
   "cell_type": "code",
   "execution_count": null,
   "metadata": {},
   "outputs": [],
   "source": []
  }
 ]
}